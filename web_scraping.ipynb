{
 "cells": [
  {
   "attachments": {},
   "cell_type": "markdown",
   "metadata": {},
   "source": [
    "# Introducción\n",
    "\n",
    "La idea es scrapear hoteles y departamentos de una página de rentas venezolana. La idea surgió de leer [este proyecto](https://www.workana.com/job/scraping-a-pagina-web?ref=projects_1) en una página de trabajos freelance. Excepto que decidí cambiarla un poco."
   ]
  },
  {
   "attachments": {},
   "cell_type": "markdown",
   "metadata": {},
   "source": [
    "# Extracción (scrapeo) de la información"
   ]
  },
  {
   "cell_type": "code",
   "execution_count": 3,
   "metadata": {},
   "outputs": [],
   "source": [
    "import requests\n",
    "from bs4 import BeautifulSoup"
   ]
  },
  {
   "cell_type": "code",
   "execution_count": 4,
   "metadata": {},
   "outputs": [],
   "source": [
    "base_url = \"https://rentahouse.com.ve/\""
   ]
  },
  {
   "cell_type": "code",
   "execution_count": 5,
   "metadata": {},
   "outputs": [],
   "source": [
    "# Consigue los links a cada publicacion dentro de cada pagina de una seccion (casas por defecto)\n",
    "def get_links(base_url, page=1, casa=True):\n",
    "    if casa:\n",
    "        url = base_url + \"casa.html\"\n",
    "        payload = { 'page' : page, 'orderBy' : 'entryTimestamp desc', 'propertyTypeFromSlug' : 'Casa' }\n",
    "    else:\n",
    "        url = base_url + \"apartamento.html\"\n",
    "        payload = { 'page' : page, 'orderBy' : 'entryTimestamp desc', 'propertyTypeFromSlug' : 'Apartamento' }\n",
    "    \n",
    "    req = requests.get(url, params=payload)\n",
    "    soup = BeautifulSoup(req.text, \"html.parser\")\n",
    "    homes = soup.find_all(\"div\", class_='property-list')\n",
    "\n",
    "    res = []\n",
    "    for home in homes:\n",
    "        res.append(home.a['href'])\n",
    "    \n",
    "    return res"
   ]
  },
  {
   "cell_type": "code",
   "execution_count": 6,
   "metadata": {},
   "outputs": [],
   "source": [
    "links = get_links(base_url)"
   ]
  },
  {
   "cell_type": "code",
   "execution_count": 7,
   "metadata": {},
   "outputs": [],
   "source": [
    "# Extrae la informacion (sucia) de una publicacion\n",
    "def get_info_from_house(url):\n",
    "    req = requests.get(url)\n",
    "    soup = BeautifulSoup(req.text, \"html.parser\")\n",
    "\n",
    "    info = soup.find('div', class_=\"propertyInfo\").find('div', class_=\"row\")\n",
    "    data = {}\n",
    "\n",
    "    data['Price'] = info.find('div', class_='price')['title']\n",
    "\n",
    "    general_info = info.find('ul', class_=\"property-detailes-list\").find_all('li')\n",
    "\n",
    "    for item in general_info:\n",
    "        spans = item.find_all('span')\n",
    "        data[spans[0].text] = spans[1].text\n",
    "\n",
    "    location = info.find_all('div', class_='DescripcionGeneral')[-1].find_all('li')\n",
    "\n",
    "    for item in location:\n",
    "        spans = item.find_all('span')\n",
    "        data[spans[0].text] = spans[1].text\n",
    "\n",
    "    return data"
   ]
  },
  {
   "cell_type": "code",
   "execution_count": 8,
   "metadata": {},
   "outputs": [
    {
     "data": {
      "text/plain": [
       "{'Price': '$498,000 USD',\n",
       " 'Codígo RAH:': 'VE 23-26224',\n",
       " 'Tipo de Propiedad:': 'Casa',\n",
       " 'Estilo:': '1 Nivel',\n",
       " 'Área Privada:': '948 m2\\n\\n',\n",
       " 'Terreno:': '948 m2\\n\\n',\n",
       " 'Estado Del Inmueble:': 'Usado',\n",
       " 'Dormitorios:': '5',\n",
       " 'Total Baños:': '8',\n",
       " 'Baños Completos:': '8',\n",
       " 'Tipo De Estacionamiento:': 'Cubierto',\n",
       " 'Puestos De Estacionamiento:': '10',\n",
       " 'Amoblado:': 'Si',\n",
       " '✅Dormitorio De Servicio:': 'Si',\n",
       " 'Calle:': 'Publica',\n",
       " 'País: ': 'Venezuela',\n",
       " 'Estado: ': 'Distrito Metropolitano',\n",
       " 'Ciudad: ': 'Caracas',\n",
       " 'Urbanización: ': 'Lomas del Club Hipico'}"
      ]
     },
     "execution_count": 8,
     "metadata": {},
     "output_type": "execute_result"
    }
   ],
   "source": [
    "get_info_from_house(links[0])"
   ]
  },
  {
   "cell_type": "code",
   "execution_count": 13,
   "metadata": {},
   "outputs": [],
   "source": [
    "# Consigue todas las publicaciones desde la primer pagina hasta la numero pages inclusive y las devuelve como lista\n",
    "def get_house_links(pages, casa=True):\n",
    "    homes = []\n",
    "    for i in range(1,pages+1):\n",
    "        print(f'Scrapeando pagina {i}')\n",
    "        homes += get_links(base_url, page=i, casa=casa)\n",
    "    \n",
    "    return homes"
   ]
  },
  {
   "cell_type": "code",
   "execution_count": 10,
   "metadata": {},
   "outputs": [],
   "source": [
    "house_links = get_house_links(30)"
   ]
  },
  {
   "cell_type": "code",
   "execution_count": 12,
   "metadata": {},
   "outputs": [],
   "source": [
    "department_links = get_house_links(30, casa=False)"
   ]
  },
  {
   "cell_type": "code",
   "execution_count": 20,
   "metadata": {},
   "outputs": [],
   "source": [
    "import sys\n",
    "# Scrapea todas las casas de la lista conseguida por get_house_links\n",
    "def scrape_homes(homes_list):\n",
    "    homes = []\n",
    "    count = 0\n",
    "    for home in homes_list:\n",
    "        homes.append(get_info_from_house(home))\n",
    "        count += 1\n",
    "        sys.stdout.write(f\"\\rElementos screapeados: {count}/{len(homes_list)}\")\n",
    "\n",
    "    return homes"
   ]
  },
  {
   "cell_type": "code",
   "execution_count": 21,
   "metadata": {},
   "outputs": [
    {
     "name": "stdout",
     "output_type": "stream",
     "text": [
      "Elementos screapeados: 360/360"
     ]
    }
   ],
   "source": [
    "houses = scrape_homes(house_links)"
   ]
  },
  {
   "cell_type": "code",
   "execution_count": 23,
   "metadata": {},
   "outputs": [
    {
     "name": "stdout",
     "output_type": "stream",
     "text": [
      "Elementos screapeados: 360/360"
     ]
    }
   ],
   "source": [
    "departments = scrape_homes(department_links)"
   ]
  },
  {
   "attachments": {},
   "cell_type": "markdown",
   "metadata": {},
   "source": [
    "# Limpieza y transformaciones con pandas\n",
    "\n",
    "Ahora queda limpiar la información de cada casa, para esto cargo los datos obtenidos en dataframes de pandas."
   ]
  },
  {
   "cell_type": "code",
   "execution_count": 25,
   "metadata": {},
   "outputs": [],
   "source": [
    "import pandas as pd"
   ]
  },
  {
   "cell_type": "code",
   "execution_count": 151,
   "metadata": {},
   "outputs": [],
   "source": [
    "houses_df = pd.DataFrame(houses)"
   ]
  },
  {
   "cell_type": "code",
   "execution_count": 152,
   "metadata": {},
   "outputs": [
    {
     "name": "stdout",
     "output_type": "stream",
     "text": [
      "<class 'pandas.core.frame.DataFrame'>\n",
      "RangeIndex: 360 entries, 0 to 359\n",
      "Data columns (total 20 columns):\n",
      " #   Column                       Non-Null Count  Dtype \n",
      "---  ------                       --------------  ----- \n",
      " 0   Price                        360 non-null    object\n",
      " 1   Codígo RAH:                  360 non-null    object\n",
      " 2   Tipo de Propiedad:           360 non-null    object\n",
      " 3   Estilo:                      360 non-null    object\n",
      " 4   Área Privada:                360 non-null    object\n",
      " 5   Terreno:                     360 non-null    object\n",
      " 6   Estado Del Inmueble:         360 non-null    object\n",
      " 7   Dormitorios:                 360 non-null    object\n",
      " 8   Total Baños:                 360 non-null    object\n",
      " 9   Baños Completos:             360 non-null    object\n",
      " 10  Tipo De Estacionamiento:     360 non-null    object\n",
      " 11  Puestos De Estacionamiento:  306 non-null    object\n",
      " 12  Amoblado:                    360 non-null    object\n",
      " 13  ✅Dormitorio De Servicio:     149 non-null    object\n",
      " 14  Calle:                       360 non-null    object\n",
      " 15  País:                        360 non-null    object\n",
      " 16  Estado:                      360 non-null    object\n",
      " 17  Ciudad:                      360 non-null    object\n",
      " 18  Urbanización:                360 non-null    object\n",
      " 19  Medios Baños:                139 non-null    object\n",
      "dtypes: object(20)\n",
      "memory usage: 56.4+ KB\n"
     ]
    }
   ],
   "source": [
    "houses_df.info()"
   ]
  },
  {
   "attachments": {},
   "cell_type": "markdown",
   "metadata": {},
   "source": [
    "De la celda de arriba se puede observar que todas las columnas son strings, y que tienen nombres \"feos\". Para solucionar esto primero voy a renombrar las columnas y luego revisar sus tipos."
   ]
  },
  {
   "cell_type": "code",
   "execution_count": 188,
   "metadata": {},
   "outputs": [],
   "source": [
    "def rename_columns(df):\n",
    "    new_col_names = {}\n",
    "    for col in df.columns:\n",
    "        old_col = str(col)\n",
    "        if old_col.endswith(':') or old_col.endswith(': '):\n",
    "            new_col = old_col.split(':')[0]\n",
    "            new_col_names[old_col] = new_col\n",
    "\n",
    "    df.rename(columns=new_col_names, inplace=True)\n",
    "    df.rename(columns = {'✅Dormitorio De Servicio' : 'Dormitorio De Servicio'}, inplace=True)\n"
   ]
  },
  {
   "cell_type": "code",
   "execution_count": 154,
   "metadata": {},
   "outputs": [],
   "source": [
    "rename_columns(houses_df)"
   ]
  },
  {
   "cell_type": "code",
   "execution_count": 155,
   "metadata": {},
   "outputs": [
    {
     "data": {
      "text/plain": [
       "Index(['Price', 'Codígo RAH', 'Tipo de Propiedad', 'Estilo', 'Área Privada',\n",
       "       'Estado Del Inmueble', 'Dormitorios', 'Total Baños', 'Baños Completos',\n",
       "       'Tipo De Estacionamiento', 'Puestos De Estacionamiento', 'Amoblado',\n",
       "       'Dormitorio De Servicio', 'País', 'Estado', 'Ciudad', 'Urbanización',\n",
       "       'Medios Baños'],\n",
       "      dtype='object')"
      ]
     },
     "execution_count": 155,
     "metadata": {},
     "output_type": "execute_result"
    }
   ],
   "source": [
    "departments_df = pd.DataFrame(departments)\n",
    "rename_columns(departments_df)\n",
    "departments_df.columns"
   ]
  },
  {
   "cell_type": "code",
   "execution_count": 156,
   "metadata": {},
   "outputs": [
    {
     "data": {
      "text/plain": [
       "False"
      ]
     },
     "execution_count": 156,
     "metadata": {},
     "output_type": "execute_result"
    }
   ],
   "source": [
    "# Reviso por las dudas que de hecho todos los precios sean \"$<numero> USD\"\n",
    "houses_df['Price'].apply(lambda x: not str(x).endswith('USD')).any()"
   ]
  },
  {
   "cell_type": "code",
   "execution_count": 157,
   "metadata": {},
   "outputs": [],
   "source": [
    "def fix_prices(df):\n",
    "    if not df['Price'].apply(lambda x: not str(x).endswith('USD')).any():\n",
    "        df['Price'] = df['Price'].str.replace(r'\\D+','', regex=True)\n",
    "    df['Price'] = df['Price'].astype(int)\n",
    "        "
   ]
  },
  {
   "cell_type": "code",
   "execution_count": 158,
   "metadata": {},
   "outputs": [],
   "source": [
    "fix_prices(houses_df)\n",
    "fix_prices(departments_df)"
   ]
  },
  {
   "cell_type": "code",
   "execution_count": 159,
   "metadata": {},
   "outputs": [
    {
     "data": {
      "text/html": [
       "<div>\n",
       "<style scoped>\n",
       "    .dataframe tbody tr th:only-of-type {\n",
       "        vertical-align: middle;\n",
       "    }\n",
       "\n",
       "    .dataframe tbody tr th {\n",
       "        vertical-align: top;\n",
       "    }\n",
       "\n",
       "    .dataframe thead th {\n",
       "        text-align: right;\n",
       "    }\n",
       "</style>\n",
       "<table border=\"1\" class=\"dataframe\">\n",
       "  <thead>\n",
       "    <tr style=\"text-align: right;\">\n",
       "      <th></th>\n",
       "      <th>Price</th>\n",
       "      <th>Codígo RAH</th>\n",
       "      <th>Tipo de Propiedad</th>\n",
       "      <th>Estilo</th>\n",
       "      <th>Área Privada</th>\n",
       "      <th>Terreno</th>\n",
       "      <th>Estado Del Inmueble</th>\n",
       "      <th>Dormitorios</th>\n",
       "      <th>Total Baños</th>\n",
       "      <th>Baños Completos</th>\n",
       "      <th>Tipo De Estacionamiento</th>\n",
       "      <th>Puestos De Estacionamiento</th>\n",
       "      <th>Amoblado</th>\n",
       "      <th>Dormitorio De Servicio</th>\n",
       "      <th>Calle</th>\n",
       "      <th>País</th>\n",
       "      <th>Estado</th>\n",
       "      <th>Ciudad</th>\n",
       "      <th>Urbanización</th>\n",
       "      <th>Medios Baños</th>\n",
       "    </tr>\n",
       "  </thead>\n",
       "  <tbody>\n",
       "    <tr>\n",
       "      <th>0</th>\n",
       "      <td>498000</td>\n",
       "      <td>VE 23-26224</td>\n",
       "      <td>Casa</td>\n",
       "      <td>1 Nivel</td>\n",
       "      <td>948 m2\\n\\n</td>\n",
       "      <td>948 m2\\n\\n</td>\n",
       "      <td>Usado</td>\n",
       "      <td>5</td>\n",
       "      <td>8</td>\n",
       "      <td>8</td>\n",
       "      <td>Cubierto</td>\n",
       "      <td>10</td>\n",
       "      <td>Si</td>\n",
       "      <td>Si</td>\n",
       "      <td>Publica</td>\n",
       "      <td>Venezuela</td>\n",
       "      <td>Distrito Metropolitano</td>\n",
       "      <td>Caracas</td>\n",
       "      <td>Lomas del Club Hipico</td>\n",
       "      <td>NaN</td>\n",
       "    </tr>\n",
       "    <tr>\n",
       "      <th>1</th>\n",
       "      <td>240000</td>\n",
       "      <td>VE 23-26220</td>\n",
       "      <td>Casa</td>\n",
       "      <td>Multipes Niveles</td>\n",
       "      <td>307 m2\\n\\n</td>\n",
       "      <td>704 m2\\n\\n</td>\n",
       "      <td>Usado</td>\n",
       "      <td>5</td>\n",
       "      <td>6</td>\n",
       "      <td>5</td>\n",
       "      <td>Descubierto</td>\n",
       "      <td>4</td>\n",
       "      <td>No</td>\n",
       "      <td>Si</td>\n",
       "      <td>Cerrada con Vigilancia</td>\n",
       "      <td>Venezuela</td>\n",
       "      <td>Distrito Metropolitano</td>\n",
       "      <td>Caracas</td>\n",
       "      <td>El Marques</td>\n",
       "      <td>1</td>\n",
       "    </tr>\n",
       "    <tr>\n",
       "      <th>2</th>\n",
       "      <td>580000</td>\n",
       "      <td>VE 23-26215</td>\n",
       "      <td>Casa</td>\n",
       "      <td>1 Nivel</td>\n",
       "      <td>380 m2\\n\\n</td>\n",
       "      <td>1251 m2\\n\\n</td>\n",
       "      <td>Usado</td>\n",
       "      <td>5</td>\n",
       "      <td>6</td>\n",
       "      <td>5</td>\n",
       "      <td>Cubierto</td>\n",
       "      <td>5</td>\n",
       "      <td>No</td>\n",
       "      <td>Si</td>\n",
       "      <td>Cerrada con Vigilancia</td>\n",
       "      <td>Venezuela</td>\n",
       "      <td>Distrito Metropolitano</td>\n",
       "      <td>Caracas</td>\n",
       "      <td>Prados del Este</td>\n",
       "      <td>1</td>\n",
       "    </tr>\n",
       "    <tr>\n",
       "      <th>3</th>\n",
       "      <td>380000</td>\n",
       "      <td>VE 23-26209</td>\n",
       "      <td>Casa</td>\n",
       "      <td>Duplex</td>\n",
       "      <td>580 m2\\n\\n</td>\n",
       "      <td>504 m2\\n\\n</td>\n",
       "      <td>Usado</td>\n",
       "      <td>4</td>\n",
       "      <td>5</td>\n",
       "      <td>4</td>\n",
       "      <td>Cubierto</td>\n",
       "      <td>3</td>\n",
       "      <td>No</td>\n",
       "      <td>Si</td>\n",
       "      <td>Cerrada con Vigilancia</td>\n",
       "      <td>Venezuela</td>\n",
       "      <td>Distrito Metropolitano</td>\n",
       "      <td>Caracas</td>\n",
       "      <td>Sorocaima</td>\n",
       "      <td>1</td>\n",
       "    </tr>\n",
       "    <tr>\n",
       "      <th>4</th>\n",
       "      <td>270000</td>\n",
       "      <td>VE 23-26196</td>\n",
       "      <td>Casa</td>\n",
       "      <td>Multipes Niveles</td>\n",
       "      <td>400 m2\\n\\n</td>\n",
       "      <td>617 m2\\n\\n</td>\n",
       "      <td>Usado</td>\n",
       "      <td>4</td>\n",
       "      <td>3</td>\n",
       "      <td>3</td>\n",
       "      <td>Cubierto</td>\n",
       "      <td>5</td>\n",
       "      <td>No</td>\n",
       "      <td>Si</td>\n",
       "      <td>Cerrada con Vigilancia</td>\n",
       "      <td>Venezuela</td>\n",
       "      <td>Distrito Metropolitano</td>\n",
       "      <td>Caracas</td>\n",
       "      <td>Lomas del Halcon</td>\n",
       "      <td>NaN</td>\n",
       "    </tr>\n",
       "  </tbody>\n",
       "</table>\n",
       "</div>"
      ],
      "text/plain": [
       "    Price   Codígo RAH Tipo de Propiedad            Estilo Área Privada  \\\n",
       "0  498000  VE 23-26224              Casa           1 Nivel   948 m2\\n\\n   \n",
       "1  240000  VE 23-26220              Casa  Multipes Niveles   307 m2\\n\\n   \n",
       "2  580000  VE 23-26215              Casa           1 Nivel   380 m2\\n\\n   \n",
       "3  380000  VE 23-26209              Casa            Duplex   580 m2\\n\\n   \n",
       "4  270000  VE 23-26196              Casa  Multipes Niveles   400 m2\\n\\n   \n",
       "\n",
       "       Terreno Estado Del Inmueble Dormitorios Total Baños Baños Completos  \\\n",
       "0   948 m2\\n\\n               Usado           5           8               8   \n",
       "1   704 m2\\n\\n               Usado           5           6               5   \n",
       "2  1251 m2\\n\\n               Usado           5           6               5   \n",
       "3   504 m2\\n\\n               Usado           4           5               4   \n",
       "4   617 m2\\n\\n               Usado           4           3               3   \n",
       "\n",
       "  Tipo De Estacionamiento Puestos De Estacionamiento Amoblado  \\\n",
       "0                Cubierto                         10       Si   \n",
       "1             Descubierto                          4       No   \n",
       "2                Cubierto                          5       No   \n",
       "3                Cubierto                          3       No   \n",
       "4                Cubierto                          5       No   \n",
       "\n",
       "  Dormitorio De Servicio                   Calle       País  \\\n",
       "0                     Si                 Publica  Venezuela   \n",
       "1                     Si  Cerrada con Vigilancia  Venezuela   \n",
       "2                     Si  Cerrada con Vigilancia  Venezuela   \n",
       "3                     Si  Cerrada con Vigilancia  Venezuela   \n",
       "4                     Si  Cerrada con Vigilancia  Venezuela   \n",
       "\n",
       "                   Estado   Ciudad           Urbanización Medios Baños  \n",
       "0  Distrito Metropolitano  Caracas  Lomas del Club Hipico          NaN  \n",
       "1  Distrito Metropolitano  Caracas             El Marques            1  \n",
       "2  Distrito Metropolitano  Caracas        Prados del Este            1  \n",
       "3  Distrito Metropolitano  Caracas              Sorocaima            1  \n",
       "4  Distrito Metropolitano  Caracas       Lomas del Halcon          NaN  "
      ]
     },
     "execution_count": 159,
     "metadata": {},
     "output_type": "execute_result"
    }
   ],
   "source": [
    "houses_df.head()"
   ]
  },
  {
   "cell_type": "code",
   "execution_count": 160,
   "metadata": {},
   "outputs": [],
   "source": [
    "def fix_numeric_columns(df):\n",
    "    num_cols = ['Dormitorios', 'Total Baños', 'Baños Completos', 'Puestos De Estacionamiento', 'Medios Baños']\n",
    "    for col in num_cols:\n",
    "        df[col] = pd.to_numeric(df[col])"
   ]
  },
  {
   "cell_type": "code",
   "execution_count": 161,
   "metadata": {},
   "outputs": [],
   "source": [
    "fix_numeric_columns(houses_df)\n",
    "fix_numeric_columns(departments_df)"
   ]
  },
  {
   "cell_type": "code",
   "execution_count": 162,
   "metadata": {},
   "outputs": [
    {
     "name": "stdout",
     "output_type": "stream",
     "text": [
      "Columnas en comun:  ['Urbanización', 'Price', 'Medios Baños', 'Tipo De Estacionamiento', 'Codígo RAH', 'Estilo', 'País', 'Dormitorio De Servicio', 'Amoblado', 'Ciudad', 'Puestos De Estacionamiento', 'Tipo de Propiedad', 'Dormitorios', 'Baños Completos', 'Área Privada', 'Estado', 'Total Baños', 'Estado Del Inmueble']\n",
      "Columnas en casas pero no depas:  ['Calle', 'Terreno']\n"
     ]
    }
   ],
   "source": [
    "print(\"Columnas en comun: \", list(set(houses_df.columns) & set(departments_df.columns)))\n",
    "print(\"Columnas en casas pero no depas: \",list(set(houses_df.columns) - set(departments_df.columns)))"
   ]
  },
  {
   "cell_type": "code",
   "execution_count": 163,
   "metadata": {},
   "outputs": [],
   "source": [
    "def fix_areas(df, cols):\n",
    "    for col in cols:\n",
    "        df[col] = df[col].str.replace(' m2\\n\\n', '')\n",
    "        df[col] = pd.to_numeric(df[col])"
   ]
  },
  {
   "cell_type": "code",
   "execution_count": 164,
   "metadata": {},
   "outputs": [],
   "source": [
    "fix_areas(houses_df, ['Terreno', 'Área Privada'])\n",
    "fix_areas(departments_df, ['Área Privada'])"
   ]
  },
  {
   "cell_type": "code",
   "execution_count": 165,
   "metadata": {},
   "outputs": [
    {
     "data": {
      "text/plain": [
       "NaN    221\n",
       "1.0    104\n",
       "0.0     16\n",
       "2.0     13\n",
       "3.0      5\n",
       "6.0      1\n",
       "Name: Medios Baños, dtype: int64"
      ]
     },
     "execution_count": 165,
     "metadata": {},
     "output_type": "execute_result"
    }
   ],
   "source": [
    "houses_df['Medios Baños'].value_counts(dropna=False)"
   ]
  },
  {
   "cell_type": "code",
   "execution_count": 166,
   "metadata": {},
   "outputs": [],
   "source": [
    "# Asumo que un medio baño nulo significa que tiene 0 medios baños\n",
    "houses_df['Medios Baños'] = houses_df['Medios Baños'].fillna(0)\n",
    "departments_df['Medios Baños'] = departments_df['Medios Baños'].fillna(0)"
   ]
  },
  {
   "cell_type": "code",
   "execution_count": 167,
   "metadata": {},
   "outputs": [
    {
     "data": {
      "text/plain": [
       "NaN    211\n",
       "Si     149\n",
       "Name: Dormitorio De Servicio, dtype: int64"
      ]
     },
     "execution_count": 167,
     "metadata": {},
     "output_type": "execute_result"
    }
   ],
   "source": [
    "houses_df['Dormitorio De Servicio'].value_counts(dropna=False)"
   ]
  },
  {
   "cell_type": "code",
   "execution_count": 168,
   "metadata": {},
   "outputs": [],
   "source": [
    "# Reemplazo nulos por no\n",
    "houses_df['Dormitorio De Servicio'] = houses_df['Dormitorio De Servicio'].fillna('No')\n",
    "departments_df['Dormitorio De Servicio'] = departments_df['Dormitorio De Servicio'].fillna('No')"
   ]
  },
  {
   "cell_type": "code",
   "execution_count": 169,
   "metadata": {},
   "outputs": [
    {
     "data": {
      "text/plain": [
       "2.0     68\n",
       "3.0     60\n",
       "4.0     59\n",
       "NaN     54\n",
       "5.0     38\n",
       "1.0     31\n",
       "6.0     17\n",
       "8.0     10\n",
       "10.0     8\n",
       "7.0      6\n",
       "12.0     4\n",
       "0.0      2\n",
       "15.0     2\n",
       "20.0     1\n",
       "Name: Puestos De Estacionamiento, dtype: int64"
      ]
     },
     "execution_count": 169,
     "metadata": {},
     "output_type": "execute_result"
    }
   ],
   "source": [
    "houses_df['Puestos De Estacionamiento'].value_counts(dropna=False)"
   ]
  },
  {
   "cell_type": "code",
   "execution_count": 171,
   "metadata": {},
   "outputs": [
    {
     "data": {
      "text/html": [
       "<div>\n",
       "<style scoped>\n",
       "    .dataframe tbody tr th:only-of-type {\n",
       "        vertical-align: middle;\n",
       "    }\n",
       "\n",
       "    .dataframe tbody tr th {\n",
       "        vertical-align: top;\n",
       "    }\n",
       "\n",
       "    .dataframe thead th {\n",
       "        text-align: right;\n",
       "    }\n",
       "</style>\n",
       "<table border=\"1\" class=\"dataframe\">\n",
       "  <thead>\n",
       "    <tr style=\"text-align: right;\">\n",
       "      <th></th>\n",
       "      <th>Tipo De Estacionamiento</th>\n",
       "      <th>Puestos De Estacionamiento</th>\n",
       "    </tr>\n",
       "  </thead>\n",
       "  <tbody>\n",
       "    <tr>\n",
       "      <th>9</th>\n",
       "      <td>Cubierto</td>\n",
       "      <td>NaN</td>\n",
       "    </tr>\n",
       "    <tr>\n",
       "      <th>10</th>\n",
       "      <td>Cubierto</td>\n",
       "      <td>NaN</td>\n",
       "    </tr>\n",
       "    <tr>\n",
       "      <th>28</th>\n",
       "      <td>Cubierto</td>\n",
       "      <td>NaN</td>\n",
       "    </tr>\n",
       "    <tr>\n",
       "      <th>29</th>\n",
       "      <td>Cubierto</td>\n",
       "      <td>NaN</td>\n",
       "    </tr>\n",
       "    <tr>\n",
       "      <th>30</th>\n",
       "      <td>Descubierto</td>\n",
       "      <td>NaN</td>\n",
       "    </tr>\n",
       "  </tbody>\n",
       "</table>\n",
       "</div>"
      ],
      "text/plain": [
       "   Tipo De Estacionamiento  Puestos De Estacionamiento\n",
       "9                 Cubierto                         NaN\n",
       "10                Cubierto                         NaN\n",
       "28                Cubierto                         NaN\n",
       "29                Cubierto                         NaN\n",
       "30             Descubierto                         NaN"
      ]
     },
     "execution_count": 171,
     "metadata": {},
     "output_type": "execute_result"
    }
   ],
   "source": [
    "houses_df[(houses_df['Tipo De Estacionamiento'] != 'Ninguno') & (houses_df['Puestos De Estacionamiento'].isnull())][['Tipo De Estacionamiento', 'Puestos De Estacionamiento']].head()"
   ]
  },
  {
   "attachments": {},
   "cell_type": "markdown",
   "metadata": {},
   "source": [
    "Inicialmente, crei que un puesto de estacionamiento nulo quería decir que no había puestos de estacionamiento, pero esto es incorrecto ya que hay publicaciones con tipo de estacionamiento distinto de \"ninguno\" pero con puestos de estacionamiento nulo. Debido a esto, no reemplace los nulos y los deje como están."
   ]
  },
  {
   "attachments": {},
   "cell_type": "markdown",
   "metadata": {},
   "source": [
    "# Exportación a CSV\n",
    "\n",
    "Ahora con los dataframes limpiados, los exporto a csv para persistirlos."
   ]
  },
  {
   "cell_type": "code",
   "execution_count": 177,
   "metadata": {},
   "outputs": [],
   "source": [
    "houses_df.rename(columns={'Price':'Precio'}, inplace=True)\n",
    "departments_df.rename(columns={'Price':'Precio'}, inplace=True)"
   ]
  },
  {
   "cell_type": "code",
   "execution_count": 183,
   "metadata": {},
   "outputs": [],
   "source": [
    "houses_df.to_csv('Casas_venezuela.csv', index=False)\n",
    "departments_df.to_csv('Departamentos_venezuela.csv', index=False)"
   ]
  }
 ],
 "metadata": {
  "kernelspec": {
   "display_name": "env",
   "language": "python",
   "name": "env"
  },
  "language_info": {
   "codemirror_mode": {
    "name": "ipython",
    "version": 3
   },
   "file_extension": ".py",
   "mimetype": "text/x-python",
   "name": "python",
   "nbconvert_exporter": "python",
   "pygments_lexer": "ipython3",
   "version": "3.10.8"
  },
  "orig_nbformat": 4
 },
 "nbformat": 4,
 "nbformat_minor": 2
}
