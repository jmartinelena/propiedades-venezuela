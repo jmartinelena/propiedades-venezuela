{
 "cells": [
  {
   "cell_type": "code",
   "execution_count": 3,
   "metadata": {},
   "outputs": [],
   "source": [
    "import requests\n",
    "from bs4 import BeautifulSoup"
   ]
  },
  {
   "cell_type": "code",
   "execution_count": 4,
   "metadata": {},
   "outputs": [],
   "source": [
    "base_url = \"https://rentahouse.com.ve/\""
   ]
  },
  {
   "cell_type": "code",
   "execution_count": 5,
   "metadata": {},
   "outputs": [],
   "source": [
    "def get_links(base_url, page=1, casa=True):\n",
    "    if casa:\n",
    "        url = base_url + \"casa.html\"\n",
    "        payload = { 'page' : page, 'orderBy' : 'entryTimestamp desc', 'propertyTypeFromSlug' : 'Casa' }\n",
    "    else:\n",
    "        url = base_url + \"apartamento.html\"\n",
    "        payload = { 'page' : page, 'orderBy' : 'entryTimestamp desc', 'propertyTypeFromSlug' : 'Apartamento' }\n",
    "    \n",
    "    req = requests.get(url, params=payload)\n",
    "    soup = BeautifulSoup(req.text, \"html.parser\")\n",
    "    homes = soup.find_all(\"div\", class_='property-list')\n",
    "\n",
    "    res = []\n",
    "    for home in homes:\n",
    "        res.append(home.a['href'])\n",
    "    \n",
    "    return res"
   ]
  },
  {
   "cell_type": "code",
   "execution_count": 6,
   "metadata": {},
   "outputs": [],
   "source": [
    "links = get_links(base_url)"
   ]
  },
  {
   "cell_type": "code",
   "execution_count": 7,
   "metadata": {},
   "outputs": [],
   "source": [
    "def get_info_from_house(url):\n",
    "    req = requests.get(url)\n",
    "    soup = BeautifulSoup(req.text, \"html.parser\")\n",
    "\n",
    "    info = soup.find('div', class_=\"propertyInfo\").find('div', class_=\"row\")\n",
    "    data = {}\n",
    "\n",
    "    data['Price'] = info.find('div', class_='price')['title']\n",
    "\n",
    "    general_info = info.find('ul', class_=\"property-detailes-list\").find_all('li')\n",
    "\n",
    "    for item in general_info:\n",
    "        spans = item.find_all('span')\n",
    "        data[spans[0].text] = spans[1].text\n",
    "\n",
    "    location = info.find_all('div', class_='DescripcionGeneral')[-1].find_all('li')\n",
    "\n",
    "    for item in location:\n",
    "        spans = item.find_all('span')\n",
    "        data[spans[0].text] = spans[1].text\n",
    "\n",
    "    return data"
   ]
  },
  {
   "cell_type": "code",
   "execution_count": 8,
   "metadata": {},
   "outputs": [
    {
     "data": {
      "text/plain": [
       "{'Price': '$498,000 USD',\n",
       " 'Codígo RAH:': 'VE 23-26224',\n",
       " 'Tipo de Propiedad:': 'Casa',\n",
       " 'Estilo:': '1 Nivel',\n",
       " 'Área Privada:': '948 m2\\n\\n',\n",
       " 'Terreno:': '948 m2\\n\\n',\n",
       " 'Estado Del Inmueble:': 'Usado',\n",
       " 'Dormitorios:': '5',\n",
       " 'Total Baños:': '8',\n",
       " 'Baños Completos:': '8',\n",
       " 'Tipo De Estacionamiento:': 'Cubierto',\n",
       " 'Puestos De Estacionamiento:': '10',\n",
       " 'Amoblado:': 'Si',\n",
       " '✅Dormitorio De Servicio:': 'Si',\n",
       " 'Calle:': 'Publica',\n",
       " 'País: ': 'Venezuela',\n",
       " 'Estado: ': 'Distrito Metropolitano',\n",
       " 'Ciudad: ': 'Caracas',\n",
       " 'Urbanización: ': 'Lomas del Club Hipico'}"
      ]
     },
     "execution_count": 8,
     "metadata": {},
     "output_type": "execute_result"
    }
   ],
   "source": [
    "get_info_from_house(links[0])"
   ]
  },
  {
   "cell_type": "code",
   "execution_count": 13,
   "metadata": {},
   "outputs": [],
   "source": [
    "def get_house_links(pages, casa=True):\n",
    "    homes = []\n",
    "    for i in range(1,pages+1):\n",
    "        print(f'Scrapeando pagina {i}')\n",
    "        homes += get_links(base_url, page=i, casa=casa)\n",
    "    \n",
    "    return homes"
   ]
  },
  {
   "cell_type": "code",
   "execution_count": 10,
   "metadata": {},
   "outputs": [],
   "source": [
    "house_links = get_house_links(30)"
   ]
  },
  {
   "cell_type": "code",
   "execution_count": 12,
   "metadata": {},
   "outputs": [],
   "source": [
    "department_links = get_house_links(30, casa=False)"
   ]
  },
  {
   "cell_type": "code",
   "execution_count": 20,
   "metadata": {},
   "outputs": [],
   "source": [
    "import sys\n",
    "def scrape_homes(homes_list):\n",
    "    homes = []\n",
    "    count = 0\n",
    "    for home in homes_list:\n",
    "        homes.append(get_info_from_house(home))\n",
    "        count += 1\n",
    "        sys.stdout.write(f\"\\rElementos screapeados: {count}/{len(homes_list)}\")\n",
    "\n",
    "    return homes"
   ]
  },
  {
   "cell_type": "code",
   "execution_count": 21,
   "metadata": {},
   "outputs": [
    {
     "name": "stdout",
     "output_type": "stream",
     "text": [
      "Elementos screapeados: 360/360"
     ]
    }
   ],
   "source": [
    "houses = scrape_homes(house_links)"
   ]
  },
  {
   "cell_type": "code",
   "execution_count": 23,
   "metadata": {},
   "outputs": [
    {
     "name": "stdout",
     "output_type": "stream",
     "text": [
      "Elementos screapeados: 360/360"
     ]
    }
   ],
   "source": [
    "departments = scrape_homes(department_links)"
   ]
  },
  {
   "cell_type": "code",
   "execution_count": 25,
   "metadata": {},
   "outputs": [],
   "source": [
    "import pandas as pd"
   ]
  },
  {
   "cell_type": "code",
   "execution_count": 45,
   "metadata": {},
   "outputs": [],
   "source": [
    "houses_df = pd.DataFrame(houses)"
   ]
  },
  {
   "cell_type": "code",
   "execution_count": 47,
   "metadata": {},
   "outputs": [
    {
     "name": "stdout",
     "output_type": "stream",
     "text": [
      "<class 'pandas.core.frame.DataFrame'>\n",
      "RangeIndex: 360 entries, 0 to 359\n",
      "Data columns (total 20 columns):\n",
      " #   Column                       Non-Null Count  Dtype \n",
      "---  ------                       --------------  ----- \n",
      " 0   Price                        360 non-null    object\n",
      " 1   Codígo RAH:                  360 non-null    object\n",
      " 2   Tipo de Propiedad:           360 non-null    object\n",
      " 3   Estilo:                      360 non-null    object\n",
      " 4   Área Privada:                360 non-null    object\n",
      " 5   Terreno:                     360 non-null    object\n",
      " 6   Estado Del Inmueble:         360 non-null    object\n",
      " 7   Dormitorios:                 360 non-null    object\n",
      " 8   Total Baños:                 360 non-null    object\n",
      " 9   Baños Completos:             360 non-null    object\n",
      " 10  Tipo De Estacionamiento:     360 non-null    object\n",
      " 11  Puestos De Estacionamiento:  306 non-null    object\n",
      " 12  Amoblado:                    360 non-null    object\n",
      " 13  ✅Dormitorio De Servicio:     149 non-null    object\n",
      " 14  Calle:                       360 non-null    object\n",
      " 15  País:                        360 non-null    object\n",
      " 16  Estado:                      360 non-null    object\n",
      " 17  Ciudad:                      360 non-null    object\n",
      " 18  Urbanización:                360 non-null    object\n",
      " 19  Medios Baños:                139 non-null    object\n",
      "dtypes: object(20)\n",
      "memory usage: 56.4+ KB\n"
     ]
    }
   ],
   "source": [
    "houses_df.info()"
   ]
  },
  {
   "cell_type": "code",
   "execution_count": 57,
   "metadata": {},
   "outputs": [],
   "source": [
    "def rename_columns(df):\n",
    "    new_col_names = {}\n",
    "    for col in df.columns:\n",
    "        old_col = str(col)\n",
    "        if old_col.endswith(':') or old_col.endswith(': '):\n",
    "            new_col = old_col.split(':')[0]\n",
    "            new_col_names[old_col] = new_col\n",
    "\n",
    "    df.rename(columns=new_col_names, inplace=True)\n",
    "    df.rename(columns = {'✅Dormitorio De Servicio' : 'Dormitorio De Servicio'}, inplace=True)\n"
   ]
  },
  {
   "cell_type": "code",
   "execution_count": 58,
   "metadata": {},
   "outputs": [],
   "source": [
    "rename_columns(houses_df)"
   ]
  },
  {
   "cell_type": "code",
   "execution_count": 59,
   "metadata": {},
   "outputs": [
    {
     "data": {
      "text/plain": [
       "Index(['Price', 'Codígo RAH', 'Tipo de Propiedad', 'Estilo', 'Área Privada',\n",
       "       'Estado Del Inmueble', 'Dormitorios', 'Total Baños', 'Baños Completos',\n",
       "       'Tipo De Estacionamiento', 'Puestos De Estacionamiento', 'Amoblado',\n",
       "       'Dormitorio De Servicio', 'País', 'Estado', 'Ciudad', 'Urbanización',\n",
       "       'Medios Baños'],\n",
       "      dtype='object')"
      ]
     },
     "execution_count": 59,
     "metadata": {},
     "output_type": "execute_result"
    }
   ],
   "source": [
    "departments_df = pd.DataFrame(departments)\n",
    "rename_columns(departments_df)\n",
    "departments_df.columns"
   ]
  }
 ],
 "metadata": {
  "kernelspec": {
   "display_name": "env",
   "language": "python",
   "name": "env"
  },
  "language_info": {
   "codemirror_mode": {
    "name": "ipython",
    "version": 3
   },
   "file_extension": ".py",
   "mimetype": "text/x-python",
   "name": "python",
   "nbconvert_exporter": "python",
   "pygments_lexer": "ipython3",
   "version": "3.10.8"
  },
  "orig_nbformat": 4
 },
 "nbformat": 4,
 "nbformat_minor": 2
}
