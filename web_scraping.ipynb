{
 "cells": [
  {
   "attachments": {},
   "cell_type": "markdown",
   "metadata": {},
   "source": [
    "# Introducción\n",
    "\n",
    "La idea es scrapear hoteles y departamentos de una página de rentas venezolana (a pesar de que soy argentino). La idea surgió de leer [este proyecto](https://www.workana.com/job/scraping-a-pagina-web?ref=projects_1) en una página de trabajos freelance. Excepto que decidí cambiarla un poco."
   ]
  },
  {
   "attachments": {},
   "cell_type": "markdown",
   "metadata": {},
   "source": [
    "# Extracción (scrapeo) de la información"
   ]
  },
  {
   "cell_type": "code",
   "execution_count": 1,
   "metadata": {},
   "outputs": [],
   "source": [
    "import requests\n",
    "from bs4 import BeautifulSoup"
   ]
  },
  {
   "cell_type": "code",
   "execution_count": 2,
   "metadata": {},
   "outputs": [],
   "source": [
    "base_url = \"https://rentahouse.com.ve/\""
   ]
  },
  {
   "cell_type": "code",
   "execution_count": 3,
   "metadata": {},
   "outputs": [],
   "source": [
    "# Consigue los links a cada publicacion dentro de cada pagina de una seccion (casas por defecto)\n",
    "def get_links(base_url, page=1, casa=True):\n",
    "    if casa:\n",
    "        url = base_url + \"casa_en_venta.html\"\n",
    "        payload = { 'page' : page, 'orderBy' : 'entryTimestamp desc', 'propertyTypeFromSlug' : 'Casa' }\n",
    "    else:\n",
    "        url = base_url + \"apartamento_en_venta.html\"\n",
    "        payload = { 'page' : page, 'orderBy' : 'entryTimestamp desc', 'propertyTypeFromSlug' : 'Apartamento' }\n",
    "    \n",
    "    req = requests.get(url, params=payload)\n",
    "    soup = BeautifulSoup(req.text, \"html.parser\")\n",
    "    homes = soup.find_all(\"div\", class_='property-list')\n",
    "\n",
    "    res = []\n",
    "    for home in homes:\n",
    "        res.append(home.a['href'])\n",
    "    \n",
    "    return res"
   ]
  },
  {
   "cell_type": "code",
   "execution_count": 4,
   "metadata": {},
   "outputs": [],
   "source": [
    "links = get_links(base_url)"
   ]
  },
  {
   "cell_type": "code",
   "execution_count": 5,
   "metadata": {},
   "outputs": [],
   "source": [
    "# Extrae la informacion (sucia) de una publicacion\n",
    "def get_info_from_house(url):\n",
    "    req = requests.get(url)\n",
    "    \n",
    "    if req.status_code != 200:\n",
    "        print(\"No se puede acceder a \" + url)\n",
    "        return\n",
    "    \n",
    "    soup = BeautifulSoup(req.text, \"html.parser\")\n",
    "    \n",
    "    try:\n",
    "        info = soup.find('div', class_=\"propertyInfo\")\n",
    "        details = info.find('div', class_=\"row\")\n",
    "    except AttributeError as e:\n",
    "        print(\"La pagina tiene algun error.\")\n",
    "        return\n",
    "    \n",
    "    data = {}\n",
    "\n",
    "    data['Price'] = details.find('div', class_='price')['title']\n",
    "\n",
    "    general_info = details.find('ul', class_=\"property-detailes-list\").find_all('li')\n",
    "\n",
    "    for item in general_info:\n",
    "        spans = item.find_all('span')\n",
    "        data[spans[0].text] = spans[1].text\n",
    "\n",
    "    location = details.find_all('div', class_='DescripcionGeneral')[-1].find_all('li')\n",
    "\n",
    "    for item in location:\n",
    "        spans = item.find_all('span')\n",
    "        data[spans[0].text] = spans[1].text\n",
    "\n",
    "    return data"
   ]
  },
  {
   "cell_type": "code",
   "execution_count": 6,
   "metadata": {},
   "outputs": [
    {
     "data": {
      "text/plain": [
       "{'Price': '$150,000 USD',\n",
       " 'Codígo RAH:': 'VE 23-26807',\n",
       " 'Tipo de Propiedad:': 'Casa',\n",
       " 'Estilo:': 'Duplex',\n",
       " 'Área Privada:': '225 m2\\n\\n',\n",
       " 'Terreno:': '225 m2\\n\\n',\n",
       " 'Estado Del Inmueble:': 'Usado',\n",
       " 'Dormitorios:': '4',\n",
       " 'Total Baños:': '5',\n",
       " 'Baños Completos:': '4',\n",
       " 'Medios Baños:': '1',\n",
       " 'Tipo De Estacionamiento:': 'Cubierto',\n",
       " 'Puestos De Estacionamiento:': '2',\n",
       " 'Amoblado:': 'No',\n",
       " '✅Dormitorio De Servicio:': 'Si',\n",
       " 'Calle:': 'Publica',\n",
       " 'País: ': 'Venezuela',\n",
       " 'Estado: ': 'Distrito Metropolitano',\n",
       " 'Ciudad: ': 'Caracas',\n",
       " 'Urbanización: ': 'La Boyera'}"
      ]
     },
     "execution_count": 6,
     "metadata": {},
     "output_type": "execute_result"
    }
   ],
   "source": [
    "get_info_from_house(links[0])"
   ]
  },
  {
   "cell_type": "code",
   "execution_count": 7,
   "metadata": {},
   "outputs": [],
   "source": [
    "import sys"
   ]
  },
  {
   "cell_type": "code",
   "execution_count": 8,
   "metadata": {},
   "outputs": [],
   "source": [
    "# Consigue todas las publicaciones desde la primer pagina hasta la numero pages inclusive y las devuelve como lista\n",
    "def get_house_links(pages, casa=True):\n",
    "    homes = []\n",
    "    for i in range(1,pages+1):\n",
    "        sys.stdout.write(f'\\rScrapeando pagina {i}')\n",
    "        homes += get_links(base_url, page=i, casa=casa)\n",
    "    \n",
    "    return homes"
   ]
  },
  {
   "cell_type": "code",
   "execution_count": 9,
   "metadata": {},
   "outputs": [
    {
     "name": "stdout",
     "output_type": "stream",
     "text": [
      "Scrapeando pagina 360"
     ]
    }
   ],
   "source": [
    "house_links = get_house_links(360)"
   ]
  },
  {
   "cell_type": "code",
   "execution_count": 10,
   "metadata": {},
   "outputs": [
    {
     "name": "stdout",
     "output_type": "stream",
     "text": [
      "Scrapeando pagina 360"
     ]
    }
   ],
   "source": [
    "apartment_links = get_house_links(360, casa=False)"
   ]
  },
  {
   "cell_type": "code",
   "execution_count": 11,
   "metadata": {},
   "outputs": [],
   "source": [
    "# Scrapea todas las casas de la lista conseguida por get_house_links\n",
    "def scrape_homes(homes_list):\n",
    "    homes = []\n",
    "    count = 0\n",
    "    for home in homes_list:\n",
    "        home_info = get_info_from_house(home)\n",
    "\n",
    "        if home_info is None:\n",
    "            continue\n",
    "\n",
    "        homes.append(home_info)\n",
    "        count += 1\n",
    "        sys.stdout.write(f\"\\rElementos scrapeados: {count}/{len(homes_list)}\")\n",
    "\n",
    "    return homes"
   ]
  },
  {
   "cell_type": "code",
   "execution_count": 12,
   "metadata": {},
   "outputs": [
    {
     "name": "stdout",
     "output_type": "stream",
     "text": [
      "Elementos scrapeados: 2250/4320No se puede acceder a https://rentahouse.com.ve/casa_en_venta_en_yaritagua_en_municipio-pena_rah-23-15488.html\n",
      "Elementos scrapeados: 2309/4320No se puede acceder a https://rentahouse.com.ve/casa_en_venta_en_barquisimeto_en_colinas-de-santa-rosa_rah-23-14955.html\n",
      "Elementos scrapeados: 2590/4320No se puede acceder a https://rentahouse.com.ve/casa_en_venta_en_caracas_en_colinas-de-bello-monte_rah-23-13072.html\n",
      "Elementos scrapeados: 3567/4320No se puede acceder a https://rentahouse.com.ve/casa_en_venta_en_municipio-vargas_en_caruao_rah-23-5789.html\n",
      "Elementos scrapeados: 4316/4320"
     ]
    }
   ],
   "source": [
    "houses = scrape_homes(house_links)"
   ]
  },
  {
   "cell_type": "code",
   "execution_count": 13,
   "metadata": {},
   "outputs": [
    {
     "name": "stdout",
     "output_type": "stream",
     "text": [
      "Elementos scrapeados: 4320/4320"
     ]
    }
   ],
   "source": [
    "apartments = scrape_homes(apartment_links)"
   ]
  },
  {
   "attachments": {},
   "cell_type": "markdown",
   "metadata": {},
   "source": [
    "Siendo sincero, la verdad no me gusta como scrapee las publicaciones. Esto es porque lo hice de manera secuencial, lo cual toma mucho tiempo.  \n",
    "Hubiera preferido scrapear de forma paralela, por ejemplo con crontab + [click](https://click.palletsprojects.com/), o con [schedule](https://github.com/dbader/schedule), o incluso arreglármelas con asyncio u otra forma, pero decidí ir por lo simple (y feo) para asegurarme que funcione."
   ]
  },
  {
   "attachments": {},
   "cell_type": "markdown",
   "metadata": {},
   "source": [
    "# Limpieza y transformaciones con pandas\n",
    "\n",
    "Ahora queda limpiar la información de cada casa, para esto cargo los datos obtenidos en dataframes de pandas."
   ]
  },
  {
   "cell_type": "code",
   "execution_count": 14,
   "metadata": {},
   "outputs": [],
   "source": [
    "import pandas as pd\n",
    "import numpy as np"
   ]
  },
  {
   "cell_type": "code",
   "execution_count": 15,
   "metadata": {},
   "outputs": [],
   "source": [
    "houses_df = pd.DataFrame(houses)"
   ]
  },
  {
   "cell_type": "code",
   "execution_count": 16,
   "metadata": {},
   "outputs": [
    {
     "name": "stdout",
     "output_type": "stream",
     "text": [
      "<class 'pandas.core.frame.DataFrame'>\n",
      "RangeIndex: 4316 entries, 0 to 4315\n",
      "Data columns (total 20 columns):\n",
      " #   Column                       Non-Null Count  Dtype \n",
      "---  ------                       --------------  ----- \n",
      " 0   Price                        4316 non-null   object\n",
      " 1   Codígo RAH:                  4316 non-null   object\n",
      " 2   Tipo de Propiedad:           4316 non-null   object\n",
      " 3   Estilo:                      4316 non-null   object\n",
      " 4   Área Privada:                4316 non-null   object\n",
      " 5   Terreno:                     4316 non-null   object\n",
      " 6   Estado Del Inmueble:         4316 non-null   object\n",
      " 7   Dormitorios:                 4316 non-null   object\n",
      " 8   Total Baños:                 4316 non-null   object\n",
      " 9   Baños Completos:             4316 non-null   object\n",
      " 10  Medios Baños:                1643 non-null   object\n",
      " 11  Tipo De Estacionamiento:     4316 non-null   object\n",
      " 12  Puestos De Estacionamiento:  3778 non-null   object\n",
      " 13  Amoblado:                    4316 non-null   object\n",
      " 14  ✅Dormitorio De Servicio:     1706 non-null   object\n",
      " 15  Calle:                       4316 non-null   object\n",
      " 16  País:                        4316 non-null   object\n",
      " 17  Estado:                      4316 non-null   object\n",
      " 18  Ciudad:                      4316 non-null   object\n",
      " 19  Urbanización:                4316 non-null   object\n",
      "dtypes: object(20)\n",
      "memory usage: 674.5+ KB\n"
     ]
    }
   ],
   "source": [
    "houses_df.info()"
   ]
  },
  {
   "attachments": {},
   "cell_type": "markdown",
   "metadata": {},
   "source": [
    "De la celda de arriba se puede observar que todas las columnas son strings, y que tienen nombres \"feos\". Para solucionar esto primero voy a renombrar las columnas y luego revisar sus tipos."
   ]
  },
  {
   "cell_type": "code",
   "execution_count": 17,
   "metadata": {},
   "outputs": [],
   "source": [
    "def rename_columns(df):\n",
    "    new_col_names = {}\n",
    "    for col in df.columns:\n",
    "        old_col = str(col)\n",
    "        if old_col.endswith(':') or old_col.endswith(': '):\n",
    "            new_col = old_col.split(':')[0]\n",
    "            new_col_names[old_col] = new_col\n",
    "\n",
    "    df.rename(columns=new_col_names, inplace=True)\n",
    "    df.rename(columns = {'✅Dormitorio De Servicio' : 'Dormitorio De Servicio'}, inplace=True)\n"
   ]
  },
  {
   "cell_type": "code",
   "execution_count": 18,
   "metadata": {},
   "outputs": [],
   "source": [
    "rename_columns(houses_df)"
   ]
  },
  {
   "cell_type": "code",
   "execution_count": 19,
   "metadata": {},
   "outputs": [
    {
     "data": {
      "text/plain": [
       "Index(['Price', 'Codígo RAH', 'Tipo de Propiedad', 'Estilo', 'Área Privada',\n",
       "       'Estado Del Inmueble', 'Dormitorios', 'Total Baños', 'Baños Completos',\n",
       "       'Medios Baños', 'Tipo De Estacionamiento', 'Puestos De Estacionamiento',\n",
       "       'Amoblado', 'Dormitorio De Servicio', 'País', 'Estado', 'Ciudad',\n",
       "       'Urbanización'],\n",
       "      dtype='object')"
      ]
     },
     "execution_count": 19,
     "metadata": {},
     "output_type": "execute_result"
    }
   ],
   "source": [
    "apartments_df = pd.DataFrame(apartments)\n",
    "rename_columns(apartments_df)\n",
    "apartments_df.columns"
   ]
  },
  {
   "cell_type": "code",
   "execution_count": 20,
   "metadata": {},
   "outputs": [
    {
     "data": {
      "text/plain": [
       "False"
      ]
     },
     "execution_count": 20,
     "metadata": {},
     "output_type": "execute_result"
    }
   ],
   "source": [
    "# Reviso por las dudas que de hecho todos los precios sean \"$<numero> USD\"\n",
    "houses_df['Price'].apply(lambda x: not str(x).endswith('USD')).any()"
   ]
  },
  {
   "cell_type": "code",
   "execution_count": 21,
   "metadata": {},
   "outputs": [],
   "source": [
    "def fix_prices(df):\n",
    "    if not df['Price'].apply(lambda x: not str(x).endswith('USD')).any():\n",
    "        df['Price'] = df['Price'].str.replace(r'\\D+','', regex=True)\n",
    "    df['Price'] = df['Price'].astype(int)\n",
    "        "
   ]
  },
  {
   "cell_type": "code",
   "execution_count": 22,
   "metadata": {},
   "outputs": [],
   "source": [
    "fix_prices(houses_df)\n",
    "fix_prices(apartments_df)"
   ]
  },
  {
   "cell_type": "code",
   "execution_count": 23,
   "metadata": {},
   "outputs": [
    {
     "data": {
      "text/html": [
       "<div>\n",
       "<style scoped>\n",
       "    .dataframe tbody tr th:only-of-type {\n",
       "        vertical-align: middle;\n",
       "    }\n",
       "\n",
       "    .dataframe tbody tr th {\n",
       "        vertical-align: top;\n",
       "    }\n",
       "\n",
       "    .dataframe thead th {\n",
       "        text-align: right;\n",
       "    }\n",
       "</style>\n",
       "<table border=\"1\" class=\"dataframe\">\n",
       "  <thead>\n",
       "    <tr style=\"text-align: right;\">\n",
       "      <th></th>\n",
       "      <th>Price</th>\n",
       "      <th>Codígo RAH</th>\n",
       "      <th>Tipo de Propiedad</th>\n",
       "      <th>Estilo</th>\n",
       "      <th>Área Privada</th>\n",
       "      <th>Terreno</th>\n",
       "      <th>Estado Del Inmueble</th>\n",
       "      <th>Dormitorios</th>\n",
       "      <th>Total Baños</th>\n",
       "      <th>Baños Completos</th>\n",
       "      <th>Medios Baños</th>\n",
       "      <th>Tipo De Estacionamiento</th>\n",
       "      <th>Puestos De Estacionamiento</th>\n",
       "      <th>Amoblado</th>\n",
       "      <th>Dormitorio De Servicio</th>\n",
       "      <th>Calle</th>\n",
       "      <th>País</th>\n",
       "      <th>Estado</th>\n",
       "      <th>Ciudad</th>\n",
       "      <th>Urbanización</th>\n",
       "    </tr>\n",
       "  </thead>\n",
       "  <tbody>\n",
       "    <tr>\n",
       "      <th>0</th>\n",
       "      <td>150000</td>\n",
       "      <td>VE 23-26807</td>\n",
       "      <td>Casa</td>\n",
       "      <td>Duplex</td>\n",
       "      <td>225 m2\\n\\n</td>\n",
       "      <td>225 m2\\n\\n</td>\n",
       "      <td>Usado</td>\n",
       "      <td>4</td>\n",
       "      <td>5</td>\n",
       "      <td>4</td>\n",
       "      <td>1</td>\n",
       "      <td>Cubierto</td>\n",
       "      <td>2</td>\n",
       "      <td>No</td>\n",
       "      <td>Si</td>\n",
       "      <td>Publica</td>\n",
       "      <td>Venezuela</td>\n",
       "      <td>Distrito Metropolitano</td>\n",
       "      <td>Caracas</td>\n",
       "      <td>La Boyera</td>\n",
       "    </tr>\n",
       "    <tr>\n",
       "      <th>1</th>\n",
       "      <td>50000</td>\n",
       "      <td>VE 23-26803</td>\n",
       "      <td>Casa</td>\n",
       "      <td>1 Nivel</td>\n",
       "      <td>178 m2\\n\\n</td>\n",
       "      <td>178 m2\\n\\n</td>\n",
       "      <td>Usado</td>\n",
       "      <td>6</td>\n",
       "      <td>5</td>\n",
       "      <td>5</td>\n",
       "      <td>NaN</td>\n",
       "      <td>Ninguno</td>\n",
       "      <td>NaN</td>\n",
       "      <td>No</td>\n",
       "      <td>NaN</td>\n",
       "      <td>Publica</td>\n",
       "      <td>Venezuela</td>\n",
       "      <td>Distrito Metropolitano</td>\n",
       "      <td>Caracas</td>\n",
       "      <td>La Pastora</td>\n",
       "    </tr>\n",
       "    <tr>\n",
       "      <th>2</th>\n",
       "      <td>150000</td>\n",
       "      <td>VE 23-26802</td>\n",
       "      <td>Casa</td>\n",
       "      <td>1 Nivel</td>\n",
       "      <td>630 m2\\n\\n</td>\n",
       "      <td>630 m2\\n\\n</td>\n",
       "      <td>Usado</td>\n",
       "      <td>5</td>\n",
       "      <td>5</td>\n",
       "      <td>4</td>\n",
       "      <td>1</td>\n",
       "      <td>Descubierto</td>\n",
       "      <td>2</td>\n",
       "      <td>Si</td>\n",
       "      <td>NaN</td>\n",
       "      <td>Cerrada con Vigilancia</td>\n",
       "      <td>Venezuela</td>\n",
       "      <td>Portuguesa</td>\n",
       "      <td>Araure</td>\n",
       "      <td>Araguaney</td>\n",
       "    </tr>\n",
       "    <tr>\n",
       "      <th>3</th>\n",
       "      <td>78000</td>\n",
       "      <td>VE 23-26799</td>\n",
       "      <td>Casa</td>\n",
       "      <td>Duplex</td>\n",
       "      <td>320 m2\\n\\n</td>\n",
       "      <td>200 m2\\n\\n</td>\n",
       "      <td>Usado</td>\n",
       "      <td>4</td>\n",
       "      <td>4</td>\n",
       "      <td>3</td>\n",
       "      <td>1</td>\n",
       "      <td>Cubierto</td>\n",
       "      <td>3</td>\n",
       "      <td>Parcialmente</td>\n",
       "      <td>Si</td>\n",
       "      <td>Cerrada con Vigilancia</td>\n",
       "      <td>Venezuela</td>\n",
       "      <td>Portuguesa</td>\n",
       "      <td>Araure</td>\n",
       "      <td>Maria Gabriela</td>\n",
       "    </tr>\n",
       "    <tr>\n",
       "      <th>4</th>\n",
       "      <td>120000</td>\n",
       "      <td>VE 23-26796</td>\n",
       "      <td>Casa</td>\n",
       "      <td>Duplex</td>\n",
       "      <td>212 m2\\n\\n</td>\n",
       "      <td>178 m2\\n\\n</td>\n",
       "      <td>Usado</td>\n",
       "      <td>3</td>\n",
       "      <td>3</td>\n",
       "      <td>2</td>\n",
       "      <td>1</td>\n",
       "      <td>Cubierto</td>\n",
       "      <td>3</td>\n",
       "      <td>Si</td>\n",
       "      <td>Si</td>\n",
       "      <td>Cerrada con Vigilancia</td>\n",
       "      <td>Venezuela</td>\n",
       "      <td>Portuguesa</td>\n",
       "      <td>Araure</td>\n",
       "      <td>Las Mesetas de Araure</td>\n",
       "    </tr>\n",
       "  </tbody>\n",
       "</table>\n",
       "</div>"
      ],
      "text/plain": [
       "    Price   Codígo RAH Tipo de Propiedad   Estilo Área Privada     Terreno  \\\n",
       "0  150000  VE 23-26807              Casa   Duplex   225 m2\\n\\n  225 m2\\n\\n   \n",
       "1   50000  VE 23-26803              Casa  1 Nivel   178 m2\\n\\n  178 m2\\n\\n   \n",
       "2  150000  VE 23-26802              Casa  1 Nivel   630 m2\\n\\n  630 m2\\n\\n   \n",
       "3   78000  VE 23-26799              Casa   Duplex   320 m2\\n\\n  200 m2\\n\\n   \n",
       "4  120000  VE 23-26796              Casa   Duplex   212 m2\\n\\n  178 m2\\n\\n   \n",
       "\n",
       "  Estado Del Inmueble Dormitorios Total Baños Baños Completos Medios Baños  \\\n",
       "0               Usado           4           5               4            1   \n",
       "1               Usado           6           5               5          NaN   \n",
       "2               Usado           5           5               4            1   \n",
       "3               Usado           4           4               3            1   \n",
       "4               Usado           3           3               2            1   \n",
       "\n",
       "  Tipo De Estacionamiento Puestos De Estacionamiento      Amoblado  \\\n",
       "0                Cubierto                          2            No   \n",
       "1                 Ninguno                        NaN            No   \n",
       "2             Descubierto                          2            Si   \n",
       "3                Cubierto                          3  Parcialmente   \n",
       "4                Cubierto                          3            Si   \n",
       "\n",
       "  Dormitorio De Servicio                   Calle       País  \\\n",
       "0                     Si                 Publica  Venezuela   \n",
       "1                    NaN                 Publica  Venezuela   \n",
       "2                    NaN  Cerrada con Vigilancia  Venezuela   \n",
       "3                     Si  Cerrada con Vigilancia  Venezuela   \n",
       "4                     Si  Cerrada con Vigilancia  Venezuela   \n",
       "\n",
       "                   Estado   Ciudad           Urbanización  \n",
       "0  Distrito Metropolitano  Caracas              La Boyera  \n",
       "1  Distrito Metropolitano  Caracas             La Pastora  \n",
       "2              Portuguesa   Araure              Araguaney  \n",
       "3              Portuguesa   Araure         Maria Gabriela  \n",
       "4              Portuguesa   Araure  Las Mesetas de Araure  "
      ]
     },
     "execution_count": 23,
     "metadata": {},
     "output_type": "execute_result"
    }
   ],
   "source": [
    "houses_df.head()"
   ]
  },
  {
   "cell_type": "code",
   "execution_count": 24,
   "metadata": {},
   "outputs": [],
   "source": [
    "def fix_numeric_columns(df):\n",
    "    num_cols = ['Dormitorios', 'Total Baños', 'Baños Completos', 'Puestos De Estacionamiento', 'Medios Baños']\n",
    "    for col in num_cols:\n",
    "        df[col] = pd.to_numeric(df[col])"
   ]
  },
  {
   "cell_type": "code",
   "execution_count": 25,
   "metadata": {},
   "outputs": [],
   "source": [
    "fix_numeric_columns(houses_df)\n",
    "fix_numeric_columns(apartments_df)"
   ]
  },
  {
   "cell_type": "code",
   "execution_count": 26,
   "metadata": {},
   "outputs": [
    {
     "name": "stdout",
     "output_type": "stream",
     "text": [
      "Columnas en comun:  ['Price', 'Total Baños', 'Estado', 'Baños Completos', 'Área Privada', 'Medios Baños', 'Tipo de Propiedad', 'Tipo De Estacionamiento', 'Ciudad', 'País', 'Estado Del Inmueble', 'Dormitorios', 'Codígo RAH', 'Urbanización', 'Estilo', 'Puestos De Estacionamiento', 'Dormitorio De Servicio', 'Amoblado']\n",
      "Columnas en casas pero no depas:  ['Terreno', 'Calle']\n"
     ]
    }
   ],
   "source": [
    "print(\"Columnas en comun: \", list(set(houses_df.columns) & set(apartments_df.columns)))\n",
    "print(\"Columnas en casas pero no depas: \",list(set(houses_df.columns) - set(apartments_df.columns)))"
   ]
  },
  {
   "cell_type": "code",
   "execution_count": 27,
   "metadata": {},
   "outputs": [],
   "source": [
    "def fix_areas(df, cols):\n",
    "    for col in cols:\n",
    "        df[col] = df[col].str.replace(' m2\\n\\n', '')\n",
    "        df[col] = pd.to_numeric(df[col])"
   ]
  },
  {
   "cell_type": "code",
   "execution_count": 28,
   "metadata": {},
   "outputs": [],
   "source": [
    "fix_areas(houses_df, ['Terreno', 'Área Privada'])\n",
    "fix_areas(apartments_df, ['Área Privada'])"
   ]
  },
  {
   "cell_type": "code",
   "execution_count": 29,
   "metadata": {},
   "outputs": [
    {
     "data": {
      "text/plain": [
       "NaN     2673\n",
       "1.0     1134\n",
       "2.0      243\n",
       "0.0      170\n",
       "3.0       70\n",
       "4.0       10\n",
       "6.0        7\n",
       "5.0        4\n",
       "11.0       1\n",
       "7.0        1\n",
       "10.0       1\n",
       "8.0        1\n",
       "9.0        1\n",
       "Name: Medios Baños, dtype: int64"
      ]
     },
     "execution_count": 29,
     "metadata": {},
     "output_type": "execute_result"
    }
   ],
   "source": [
    "houses_df['Medios Baños'].value_counts(dropna=False)"
   ]
  },
  {
   "cell_type": "code",
   "execution_count": 30,
   "metadata": {},
   "outputs": [],
   "source": [
    "# Asumo que un medio baño nulo significa que tiene 0 medios baños\n",
    "houses_df['Medios Baños'] = houses_df['Medios Baños'].fillna(0)\n",
    "apartments_df['Medios Baños'] = apartments_df['Medios Baños'].fillna(0)"
   ]
  },
  {
   "cell_type": "code",
   "execution_count": 31,
   "metadata": {},
   "outputs": [
    {
     "data": {
      "text/plain": [
       "NaN    2610\n",
       "Si     1706\n",
       "Name: Dormitorio De Servicio, dtype: int64"
      ]
     },
     "execution_count": 31,
     "metadata": {},
     "output_type": "execute_result"
    }
   ],
   "source": [
    "houses_df['Dormitorio De Servicio'].value_counts(dropna=False)"
   ]
  },
  {
   "cell_type": "code",
   "execution_count": 32,
   "metadata": {},
   "outputs": [],
   "source": [
    "# Reemplazo nulos por no\n",
    "houses_df['Dormitorio De Servicio'] = houses_df['Dormitorio De Servicio'].fillna('No')\n",
    "apartments_df['Dormitorio De Servicio'] = apartments_df['Dormitorio De Servicio'].fillna('No')"
   ]
  },
  {
   "cell_type": "code",
   "execution_count": 33,
   "metadata": {},
   "outputs": [
    {
     "data": {
      "text/plain": [
       "2.0      1003\n",
       "4.0       705\n",
       "3.0       655\n",
       "NaN       538\n",
       "6.0       328\n",
       "5.0       306\n",
       "1.0       223\n",
       "10.0      175\n",
       "8.0       151\n",
       "7.0        69\n",
       "12.0       35\n",
       "0.0        29\n",
       "9.0        21\n",
       "20.0       20\n",
       "15.0       17\n",
       "14.0        9\n",
       "30.0        5\n",
       "40.0        4\n",
       "11.0        4\n",
       "18.0        3\n",
       "25.0        3\n",
       "23.0        2\n",
       "16.0        2\n",
       "24.0        1\n",
       "21.0        1\n",
       "19.0        1\n",
       "56.0        1\n",
       "50.0        1\n",
       "13.0        1\n",
       "34.0        1\n",
       "100.0       1\n",
       "60.0        1\n",
       "Name: Puestos De Estacionamiento, dtype: int64"
      ]
     },
     "execution_count": 33,
     "metadata": {},
     "output_type": "execute_result"
    }
   ],
   "source": [
    "houses_df['Puestos De Estacionamiento'].value_counts(dropna=False)"
   ]
  },
  {
   "cell_type": "code",
   "execution_count": 34,
   "metadata": {},
   "outputs": [
    {
     "data": {
      "text/html": [
       "<div>\n",
       "<style scoped>\n",
       "    .dataframe tbody tr th:only-of-type {\n",
       "        vertical-align: middle;\n",
       "    }\n",
       "\n",
       "    .dataframe tbody tr th {\n",
       "        vertical-align: top;\n",
       "    }\n",
       "\n",
       "    .dataframe thead th {\n",
       "        text-align: right;\n",
       "    }\n",
       "</style>\n",
       "<table border=\"1\" class=\"dataframe\">\n",
       "  <thead>\n",
       "    <tr style=\"text-align: right;\">\n",
       "      <th></th>\n",
       "      <th>Tipo De Estacionamiento</th>\n",
       "      <th>Puestos De Estacionamiento</th>\n",
       "    </tr>\n",
       "  </thead>\n",
       "  <tbody>\n",
       "    <tr>\n",
       "      <th>10</th>\n",
       "      <td>Cubierto</td>\n",
       "      <td>NaN</td>\n",
       "    </tr>\n",
       "    <tr>\n",
       "      <th>20</th>\n",
       "      <td>Cubierto</td>\n",
       "      <td>NaN</td>\n",
       "    </tr>\n",
       "    <tr>\n",
       "      <th>21</th>\n",
       "      <td>Cubierto</td>\n",
       "      <td>NaN</td>\n",
       "    </tr>\n",
       "    <tr>\n",
       "      <th>56</th>\n",
       "      <td>Cubierto</td>\n",
       "      <td>NaN</td>\n",
       "    </tr>\n",
       "    <tr>\n",
       "      <th>62</th>\n",
       "      <td>Cubierto</td>\n",
       "      <td>NaN</td>\n",
       "    </tr>\n",
       "  </tbody>\n",
       "</table>\n",
       "</div>"
      ],
      "text/plain": [
       "   Tipo De Estacionamiento  Puestos De Estacionamiento\n",
       "10                Cubierto                         NaN\n",
       "20                Cubierto                         NaN\n",
       "21                Cubierto                         NaN\n",
       "56                Cubierto                         NaN\n",
       "62                Cubierto                         NaN"
      ]
     },
     "execution_count": 34,
     "metadata": {},
     "output_type": "execute_result"
    }
   ],
   "source": [
    "houses_df[(houses_df['Tipo De Estacionamiento'] != 'Ninguno') & (houses_df['Puestos De Estacionamiento'].isnull())][['Tipo De Estacionamiento', 'Puestos De Estacionamiento']].head()"
   ]
  },
  {
   "attachments": {},
   "cell_type": "markdown",
   "metadata": {},
   "source": [
    "Inicialmente, creí que un puesto de estacionamiento nulo quería decir que no había puestos de estacionamiento, pero esto es incorrecto ya que hay publicaciones con tipo de estacionamiento distinto de \"ninguno\" pero con puestos de estacionamiento nulo. Debido a esto, no reemplace los nulos y los deje como están."
   ]
  },
  {
   "attachments": {},
   "cell_type": "markdown",
   "metadata": {},
   "source": [
    "# Exportación a CSV\n",
    "\n",
    "Ahora con los dataframes limpiados, los exporto a csv para persistirlos."
   ]
  },
  {
   "cell_type": "code",
   "execution_count": 35,
   "metadata": {},
   "outputs": [],
   "source": [
    "houses_df.rename(columns={'Price':'Precio'}, inplace=True)\n",
    "apartments_df.rename(columns={'Price':'Precio'}, inplace=True)"
   ]
  },
  {
   "cell_type": "code",
   "execution_count": 36,
   "metadata": {},
   "outputs": [],
   "source": [
    "houses_df.to_csv('Casas_venezuela.csv', index=False)\n",
    "apartments_df.to_csv('Departamentos_venezuela.csv', index=False)"
   ]
  }
 ],
 "metadata": {
  "kernelspec": {
   "display_name": "env",
   "language": "python",
   "name": "env"
  },
  "language_info": {
   "codemirror_mode": {
    "name": "ipython",
    "version": 3
   },
   "file_extension": ".py",
   "mimetype": "text/x-python",
   "name": "python",
   "nbconvert_exporter": "python",
   "pygments_lexer": "ipython3",
   "version": "3.10.8"
  },
  "orig_nbformat": 4
 },
 "nbformat": 4,
 "nbformat_minor": 2
}
