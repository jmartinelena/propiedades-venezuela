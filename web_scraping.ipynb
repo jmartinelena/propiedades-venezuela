{
 "cells": [
  {
   "cell_type": "code",
   "execution_count": 1,
   "metadata": {},
   "outputs": [],
   "source": [
    "import requests\n",
    "from bs4 import BeautifulSoup"
   ]
  },
  {
   "cell_type": "code",
   "execution_count": 82,
   "metadata": {},
   "outputs": [],
   "source": [
    "base_url = \"https://rentahouse.com.ve/\""
   ]
  },
  {
   "cell_type": "code",
   "execution_count": 83,
   "metadata": {},
   "outputs": [],
   "source": [
    "def get_links(base_url, page=1, casa=True):\n",
    "    if casa:\n",
    "        url = base_url + \"casa.html\"\n",
    "        payload = { 'page' : page, 'orderBy' : 'entryTimestamp desc', 'propertyTypeFromSlug' : 'Casa' }\n",
    "    else:\n",
    "        url = base_url + \"apartamento.html\"\n",
    "        payload = { 'page' : page, 'orderBy' : 'entryTimestamp desc', 'propertyTypeFromSlug' : 'Apartamento' }\n",
    "    \n",
    "    req = requests.get(url, params=payload)\n",
    "    soup = BeautifulSoup(req.text, \"html.parser\")\n",
    "    homes = soup.find_all(\"div\", class_='property-list')\n",
    "\n",
    "    res = []\n",
    "    for home in homes:\n",
    "        res.append(home.a['href'])\n",
    "    \n",
    "    return res"
   ]
  },
  {
   "cell_type": "code",
   "execution_count": 86,
   "metadata": {},
   "outputs": [],
   "source": [
    "links = get_links(base_url)"
   ]
  },
  {
   "cell_type": "code",
   "execution_count": 129,
   "metadata": {},
   "outputs": [],
   "source": [
    "def get_info_from_house(url):\n",
    "    req = requests.get(url)\n",
    "    soup = BeautifulSoup(req.text, \"html.parser\")\n",
    "\n",
    "    info = soup.find('div', class_=\"propertyInfo\").find('div', class_=\"row\")\n",
    "    data = {}\n",
    "\n",
    "    data['Price'] = info.find('div', class_='price')['title']\n",
    "\n",
    "    general_info = info.find('ul', class_=\"property-detailes-list\").find_all('li')\n",
    "\n",
    "    for item in general_info:\n",
    "        spans = item.find_all('span')\n",
    "        data[spans[0].text] = spans[1].text\n",
    "\n",
    "    location = info.find_all('div', class_='DescripcionGeneral')[-1].find_all('li')\n",
    "\n",
    "    for item in location:\n",
    "        spans = item.find_all('span')\n",
    "        data[spans[0].text] = spans[1].text\n",
    "\n",
    "    return data"
   ]
  },
  {
   "cell_type": "code",
   "execution_count": 130,
   "metadata": {},
   "outputs": [
    {
     "data": {
      "text/plain": [
       "{'Price': '$40,000 USD',\n",
       " 'Codígo RAH:': 'VE 23-26193',\n",
       " 'Tipo de Propiedad:': 'Apartamento',\n",
       " 'Estilo:': '1 Nivel',\n",
       " 'Área Privada:': '92 m2\\n\\n',\n",
       " 'Estado Del Inmueble:': 'Usado',\n",
       " 'Dormitorios:': '2',\n",
       " 'Total Baños:': '2',\n",
       " 'Baños Completos:': '2',\n",
       " 'Tipo De Estacionamiento:': 'Cubierto',\n",
       " 'Puestos De Estacionamiento:': '2',\n",
       " 'Amoblado:': 'Si',\n",
       " 'País: ': 'Venezuela',\n",
       " 'Estado: ': 'Lara',\n",
       " 'Ciudad: ': 'Barquisimeto',\n",
       " 'Urbanización: ': 'Avenida Libertador'}"
      ]
     },
     "execution_count": 130,
     "metadata": {},
     "output_type": "execute_result"
    }
   ],
   "source": [
    "get_info_from_house(links[0])"
   ]
  }
 ],
 "metadata": {
  "kernelspec": {
   "display_name": "env",
   "language": "python",
   "name": "env"
  },
  "language_info": {
   "codemirror_mode": {
    "name": "ipython",
    "version": 3
   },
   "file_extension": ".py",
   "mimetype": "text/x-python",
   "name": "python",
   "nbconvert_exporter": "python",
   "pygments_lexer": "ipython3",
   "version": "3.10.8"
  },
  "orig_nbformat": 4
 },
 "nbformat": 4,
 "nbformat_minor": 2
}
